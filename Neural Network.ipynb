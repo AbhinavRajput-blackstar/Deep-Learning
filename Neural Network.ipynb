{
 "cells": [
  {
   "cell_type": "code",
   "execution_count": 1,
   "metadata": {},
   "outputs": [],
   "source": [
    "import numpy as np\n",
    "def initialize_network(num_inputs, num_hidden_layers, num_nodes_hidden, num_nodes_output):\n",
    "\n",
    "    num_nodes_previous = num_inputs # number of nodes in the previous layer\n",
    "    network = {}             # initialize network an an empty dictionary\n",
    "\n",
    "# loop through each layer and randomly initialize the weights and biases associated with each node\n",
    "# notice how we are adding 1 to the number of hidden layers in order to include the output layer\n",
    "    for layer in range(num_hidden_layers + 1):\n",
    "        if layer == num_hidden_layers:\n",
    "            layer_name = \"output\"\n",
    "            num_nodes = num_nodes_output\n",
    "        else:\n",
    "            layer_name = \"layer_{}\".format(layer+1)\n",
    "            num_nodes = num_nodes_hidden[layer]    #to store the no. of nodes in particular layer\n",
    "        \n",
    "        #initialize weights and bias for each node\n",
    "        network[layer_name] = {}\n",
    "        for node in range (num_nodes):\n",
    "            node_name = \"node_{}\".format(node+1)\n",
    "            network[layer_name][node_name] = {\"weights\" : np.around(np.random.uniform(size=num_nodes_previous), decimals=2),\n",
    "                                              \"bias\" : np.around(np.random.uniform(size=1), decimals=2),\n",
    "                                             }\n",
    "        num_nodes_previous = num_nodes\n",
    "    return network"
   ]
  },
  {
   "cell_type": "code",
   "execution_count": 2,
   "metadata": {},
   "outputs": [
    {
     "data": {
      "text/plain": [
       "{'layer_1': {'node_1': {'weights': array([0.09, 0.8 , 0.5 , 0.37, 0.03, 0.81]),\n",
       "   'bias': array([0.93])},\n",
       "  'node_2': {'weights': array([0.34, 0.61, 0.05, 0.39, 0.63, 0.88]),\n",
       "   'bias': array([0.62])},\n",
       "  'node_3': {'weights': array([0.39, 0.12, 0.09, 0.22, 0.45, 0.94]),\n",
       "   'bias': array([0.74])}},\n",
       " 'layer_2': {'node_1': {'weights': array([0.27, 0.27, 0.58]),\n",
       "   'bias': array([0.42])},\n",
       "  'node_2': {'weights': array([0.69, 0.01, 0.61]), 'bias': array([0.34])}},\n",
       " 'layer_3': {'node_1': {'weights': array([0.47, 0.88]), 'bias': array([0.27])},\n",
       "  'node_2': {'weights': array([0.67, 0.88]), 'bias': array([0.85])},\n",
       "  'node_3': {'weights': array([0.79, 0.45]), 'bias': array([0.01])}},\n",
       " 'output': {'node_1': {'weights': array([0.91, 0.71, 0.89]),\n",
       "   'bias': array([0.38])}}}"
      ]
     },
     "execution_count": 2,
     "metadata": {},
     "output_type": "execute_result"
    }
   ],
   "source": [
    "small_network = initialize_network(6,3,[3,2,3],1)\n",
    "small_network"
   ]
  },
  {
   "cell_type": "code",
   "execution_count": 3,
   "metadata": {},
   "outputs": [],
   "source": [
    "#compute weighted sum\n",
    "def compute_weighted_sum(inputs,weights,bias):\n",
    "    return np.sum(inputs*weights) + bias"
   ]
  },
  {
   "cell_type": "code",
   "execution_count": 4,
   "metadata": {},
   "outputs": [
    {
     "name": "stdout",
     "output_type": "stream",
     "text": [
      "The inputs to the network are [0.15 0.74 0.26 0.53 0.01 0.92]\n"
     ]
    }
   ],
   "source": [
    "#to generate 5 inputs to feed to network\n",
    "from random import seed \n",
    "\n",
    "np.random.seed(12)\n",
    "inputs = np.around(np.random.uniform(size=6), decimals=2)\n",
    "print(\"The inputs to the network are {}\".format(inputs))"
   ]
  },
  {
   "cell_type": "code",
   "execution_count": 5,
   "metadata": {},
   "outputs": [
    {
     "name": "stdout",
     "output_type": "stream",
     "text": [
      "The weighted sum at the first node in the hidden layer is 2.6071\n"
     ]
    }
   ],
   "source": [
    "#compute weighted sum at first node in the first hidden layer\n",
    " \n",
    "node_weights = small_network[\"layer_1\"][\"node_1\"][\"weights\"]\n",
    "node_bias = small_network[\"layer_1\"][\"node_1\"][\"bias\"]\n",
    "\n",
    "weighted_sum = compute_weighted_sum(inputs,node_weights,node_bias)\n",
    "print(\"The weighted sum at the first node in the hidden layer is {}\"\n",
    "      .format(np.around(weighted_sum[0], decimals=4)))"
   ]
  },
  {
   "cell_type": "code",
   "execution_count": 7,
   "metadata": {},
   "outputs": [
    {
     "name": "stdout",
     "output_type": "stream",
     "text": [
      "The output of the first node in the hidden layer is 0.9313\n"
     ]
    }
   ],
   "source": [
    "#define activation function here we are taking sigmoid function and generate output of first layer\n",
    "def node_activation(weighted_sum):\n",
    "    return 1.0/(1.0 + np.exp(-1 * weighted_sum))\n",
    "node_output = node_activation(compute_weighted_sum(inputs, node_weights, node_bias))\n",
    "print(\"The output of the first node in the hidden layer is {}\".format(np.around(node_output[0], decimals=4)))\n"
   ]
  },
  {
   "cell_type": "code",
   "execution_count": null,
   "metadata": {},
   "outputs": [],
   "source": []
  },
  {
   "cell_type": "code",
   "execution_count": null,
   "metadata": {},
   "outputs": [],
   "source": []
  }
 ],
 "metadata": {
  "kernelspec": {
   "display_name": "Python 3",
   "language": "python",
   "name": "python3"
  },
  "language_info": {
   "codemirror_mode": {
    "name": "ipython",
    "version": 3
   },
   "file_extension": ".py",
   "mimetype": "text/x-python",
   "name": "python",
   "nbconvert_exporter": "python",
   "pygments_lexer": "ipython3",
   "version": "3.8.3"
  }
 },
 "nbformat": 4,
 "nbformat_minor": 4
}
