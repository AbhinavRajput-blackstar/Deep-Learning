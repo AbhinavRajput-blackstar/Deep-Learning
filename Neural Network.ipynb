{
 "cells": [
  {
   "cell_type": "markdown",
   "metadata": {},
   "source": [
    "## Here is a code to define a neural network. We can specify the number of inputs that a neural network can take, the number of hidden layers as well as the number of nodes in each hidden layer, and the number of nodes in the output layer."
   ]
  },
  {
   "cell_type": "code",
   "execution_count": null,
   "metadata": {},
   "outputs": [],
   "source": [
    "import numpy as np\n",
    "def initialize_network(num_inputs, num_hidden_layers, num_nodes_hidden, num_nodes_output):\n",
    "\n",
    "    num_nodes_previous = num_inputs # number of nodes in the previous layer\n",
    "    network = {}             # initialize network an an empty dictionary\n",
    "\n",
    "# loop through each layer and randomly initialize the weights and biases associated with each node\n",
    "# notice how we are adding 1 to the number of hidden layers in order to include the output layer\n",
    "    for layer in range(num_hidden_layers + 1):\n",
    "        if layer == num_hidden_layers:\n",
    "            layer_name = \"output\"\n",
    "            num_nodes = num_nodes_output\n",
    "        else:\n",
    "            layer_name = \"layer_{}\".format(layer+1)\n",
    "            num_nodes = num_nodes_hidden[layer]    #to store the no. of nodes in particular layer\n",
    "        \n",
    "        #initialize weights and bias for each node\n",
    "        network[layer_name] = {}\n",
    "        for node in range (num_nodes):\n",
    "            node_name = \"node_{}\".format(node+1)\n",
    "            network[layer_name][node_name] = {\"weights\" : np.around(np.random.uniform(size=num_nodes_previous), decimals=2),\n",
    "                                              \"bias\" : np.around(np.random.uniform(size=1), decimals=2),\n",
    "                                             }\n",
    "        num_nodes_previous = num_nodes\n",
    "    return network"
   ]
  },
  {
   "cell_type": "code",
   "execution_count": 2,
   "metadata": {},
   "outputs": [
    {
     "data": {
      "text/plain": [
       "{'layer_1': {'node_1': {'weights': array([0.96, 0.58, 0.08, 0.42, 0.91, 0.28]),\n",
       "   'bias': array([0.])},\n",
       "  'node_2': {'weights': array([0.62, 0.67, 0.7 , 0.12, 0.21, 0.74]),\n",
       "   'bias': array([0.42])},\n",
       "  'node_3': {'weights': array([0.52, 0.1 , 0.78, 0.88, 0.5 , 0.61]),\n",
       "   'bias': array([0.69])}},\n",
       " 'layer_2': {'node_1': {'weights': array([0.35, 0.74, 0.38]),\n",
       "   'bias': array([0.27])},\n",
       "  'node_2': {'weights': array([0.96, 0.53, 0.83]), 'bias': array([0.01])}},\n",
       " 'layer_3': {'node_1': {'weights': array([0.64, 0.21]), 'bias': array([0.61])},\n",
       "  'node_2': {'weights': array([0.64, 0.41]), 'bias': array([0.81])},\n",
       "  'node_3': {'weights': array([0.43, 0.07]), 'bias': array([0.51])}},\n",
       " 'output': {'node_1': {'weights': array([0.34, 0.84, 0.7 ]),\n",
       "   'bias': array([0.79])}}}"
      ]
     },
     "execution_count": 2,
     "metadata": {},
     "output_type": "execute_result"
    }
   ],
   "source": [
    "small_network = initialize_network(6,3,[3,2,3],1)\n",
    "small_network"
   ]
  },
  {
   "cell_type": "code",
   "execution_count": 3,
   "metadata": {},
   "outputs": [],
   "source": [
    "#compute weighted sum\n",
    "def compute_weighted_sum(inputs,weights,bias):\n",
    "    return np.sum(inputs*weights) + bias"
   ]
  },
  {
   "cell_type": "code",
   "execution_count": 10,
   "metadata": {},
   "outputs": [
    {
     "name": "stdout",
     "output_type": "stream",
     "text": [
      "The inputs to the network are [0.15 0.74 0.26 0.53 0.01 0.92]\n"
     ]
    }
   ],
   "source": [
    "#to generate 5 inputs to feed to network\n",
    "from random import seed \n",
    "\n",
    "np.random.seed(12)\n",
    "inputs = np.around(np.random.uniform(size=6), decimals=2)\n",
    "print(\"The inputs to the network are {}\".format(inputs))"
   ]
  },
  {
   "cell_type": "code",
   "execution_count": 11,
   "metadata": {},
   "outputs": [
    {
     "name": "stdout",
     "output_type": "stream",
     "text": [
      "The weighted sum at the first node in the hidden layer is 1.0833\n"
     ]
    }
   ],
   "source": [
    "#compute weighted sum at first node in the first hidden layer\n",
    " \n",
    "node_weights = small_network[\"layer_1\"][\"node_1\"][\"weights\"]\n",
    "node_bias = small_network[\"layer_1\"][\"node_1\"][\"bias\"]\n",
    "\n",
    "weighted_sum = compute_weighted_sum(inputs,node_weights,node_bias)\n",
    "print(\"The weighted sum at the first node in the hidden layer is {}\"\n",
    "      .format(np.around(weighted_sum[0], decimals=4)))"
   ]
  },
  {
   "cell_type": "code",
   "execution_count": 12,
   "metadata": {},
   "outputs": [
    {
     "name": "stdout",
     "output_type": "stream",
     "text": [
      "The output of the first node in the hidden layer is 0.7471\n"
     ]
    }
   ],
   "source": [
    "#define activation function here we are taking sigmoid function and generate output of first layer\n",
    "def node_activation(weighted_sum):\n",
    "    return 1.0/(1.0 + np.exp(-1 * weighted_sum))\n",
    "node_output = node_activation(compute_weighted_sum(inputs, node_weights, node_bias))\n",
    "print(\"The output of the first node in the hidden layer is {}\".format(np.around(node_output[0], decimals=4)))\n"
   ]
  },
  {
   "cell_type": "markdown",
   "metadata": {},
   "source": [
    "# Forward Propagation\n",
    "\n",
    "The final piece of building a neural network that can perform predictions is to put everything together. So let's create a function that applies the compute_weighted_sum and node_activation functions to each node in the network and propagates the data all the way to the output layer and outputs a prediction for each node in the output layer.\n",
    "\n",
    "The way we are going to accomplish this is through the following procedure:\n",
    "\n",
    "Start with the input layer as the input to the first hidden layer.\n",
    "Compute the weighted sum at the nodes of the current layer.\n",
    "Compute the output of the nodes of the current layer.\n",
    "Set the output of the current layer to be the input to the next layer.\n",
    "Move to the next layer in the network.\n",
    "Repeat steps 2 - 4 until we compute the output of the output layer.\n",
    "\n"
   ]
  },
  {
   "cell_type": "code",
   "execution_count": 21,
   "metadata": {},
   "outputs": [],
   "source": [
    "def forward_propagate(network, inputs):\n",
    "    \n",
    "    layer_inputs = list(inputs) # start with the input layer as the input to the first hidden layer\n",
    "    for layer in network:\n",
    "        \n",
    "        layer_data = network[layer]\n",
    "        #return layer_data\n",
    "        \n",
    "        layer_outputs = [] \n",
    "        for layer_node in layer_data:\n",
    "        \n",
    "            node_data = layer_data[layer_node]\n",
    "            #return node_data\n",
    "            \n",
    "                        # compute the weighted sum and the output of each node at the same time \n",
    "            node_output = node_activation(compute_weighted_sum(layer_inputs, node_data['weights'], node_data['bias']))\n",
    "            layer_outputs.append(np.around(node_output[0], decimals=4))\n",
    "            \n",
    "        if layer != 'output':\n",
    "            print('The outputs of the nodes in hidden layer number {} is {}'.format(layer.split('_')[1], layer_outputs))\n",
    "    \n",
    "        layer_inputs = layer_outputs # set the output of this layer to be the input to next layer\n",
    "\n",
    "    network_predictions = layer_outputs\n",
    "    return network_predictions\n",
    "\n",
    "        "
   ]
  },
  {
   "cell_type": "code",
   "execution_count": 24,
   "metadata": {},
   "outputs": [
    {
     "name": "stdout",
     "output_type": "stream",
     "text": [
      "The outputs of the nodes in hidden layer number 1 is [0.7471, 0.8741, 0.8887]\n",
      "The outputs of the nodes in hidden layer number 2 is [0.82, 0.873]\n",
      "The outputs of the nodes in hidden layer number 3 is [0.7889, 0.8446, 0.7158]\n",
      "The predicted value by the network for the given input is 0.9063\n"
     ]
    }
   ],
   "source": [
    "predictions = forward_propagate(small_network, inputs)\n",
    "#predictions\n",
    "print(\"The predicted value by the network for the given input is {}\".format(np.around(predictions[0], decimals=4)))"
   ]
  },
  {
   "cell_type": "code",
   "execution_count": null,
   "metadata": {},
   "outputs": [],
   "source": []
  }
 ],
 "metadata": {
  "kernelspec": {
   "display_name": "Python 3",
   "language": "python",
   "name": "python3"
  },
  "language_info": {
   "codemirror_mode": {
    "name": "ipython",
    "version": 3
   },
   "file_extension": ".py",
   "mimetype": "text/x-python",
   "name": "python",
   "nbconvert_exporter": "python",
   "pygments_lexer": "ipython3",
   "version": "3.8.3"
  }
 },
 "nbformat": 4,
 "nbformat_minor": 4
}
